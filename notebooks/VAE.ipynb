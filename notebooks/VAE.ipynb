{
 "cells": [
  {
   "cell_type": "code",
   "execution_count": 1,
   "metadata": {
    "id": "PkWD6PSX5dQx"
   },
   "outputs": [
    {
     "name": "stderr",
     "output_type": "stream",
     "text": [
      "/home/piai/anaconda3/envs/pytorch/lib/python3.7/site-packages/tqdm/auto.py:22: TqdmWarning: IProgress not found. Please update jupyter and ipywidgets. See https://ipywidgets.readthedocs.io/en/stable/user_install.html\n",
      "  from .autonotebook import tqdm as notebook_tqdm\n"
     ]
    }
   ],
   "source": [
    "import numpy as np\n",
    "import tensorflow as tf\n",
    "import matplotlib.pyplot as plt\n",
    "import tensorflow_datasets as tfds\n",
    "from tensorflow.keras import Model, layers"
   ]
  },
  {
   "cell_type": "code",
   "execution_count": 2,
   "metadata": {
    "colab": {
     "base_uri": "https://localhost:8080/"
    },
    "id": "tb-McRvK5dQ1",
    "outputId": "069589b2-3a9c-47b2-dd99-fa137757de49"
   },
   "outputs": [
    {
     "name": "stderr",
     "output_type": "stream",
     "text": [
      "2022-07-29 14:28:49.124251: I tensorflow/core/platform/cpu_feature_guard.cc:193] This TensorFlow binary is optimized with oneAPI Deep Neural Network Library (oneDNN) to use the following CPU instructions in performance-critical operations:  AVX2 FMA\n",
      "To enable them in other operations, rebuild TensorFlow with the appropriate compiler flags.\n",
      "2022-07-29 14:28:50.108458: I tensorflow/core/common_runtime/gpu/gpu_device.cc:1532] Created device /job:localhost/replica:0/task:0/device:GPU:0 with 6476 MB memory:  -> device: 0, name: NVIDIA GeForce RTX 2080, pci bus id: 0000:03:00.0, compute capability: 7.5\n",
      "2022-07-29 14:28:50.109044: I tensorflow/core/common_runtime/gpu/gpu_device.cc:1532] Created device /job:localhost/replica:0/task:0/device:GPU:1 with 6647 MB memory:  -> device: 1, name: NVIDIA GeForce RTX 2080, pci bus id: 0000:04:00.0, compute capability: 7.5\n"
     ]
    }
   ],
   "source": [
    "dataset = tfds.load('mnist', split='train') # MNIST Data load \n",
    "train_data = dataset.map(lambda data: tf.cast(data['image'], tf.float32) / 255.).batch(1024) # data에서 이미지정보만 뽑아서 Normalizing"
   ]
  },
  {
   "cell_type": "code",
   "execution_count": 3,
   "metadata": {},
   "outputs": [],
   "source": [
    "# 모델 정의\n",
    "class Vanila_Encoder(Model):\n",
    "    def __init__(self, latent_dim):\n",
    "        super().__init__()\n",
    "        self.latent_dim = latent_dim\n",
    "        self.encoder = tf.keras.Sequential([\n",
    "            layers.Flatten(),\n",
    "            layers.Dense(512, activation='relu'),\n",
    "            layers.Dense(256, activation='relu'),\n",
    "            layers.Dense(latent_dim * 2)\n",
    "        ])\n",
    "        \n",
    "    def call(self, x):\n",
    "        mu, logvar = tf.split(self.encoder(x), 2, axis=1) ## self.encoder(x)의 값을 1축 방향으로 반으로 나누어 쪼갠뒤 각각의 값을 mu, logvar로 만듭니다.\n",
    "        \n",
    "        return mu, logvar"
   ]
  },
  {
   "cell_type": "code",
   "execution_count": 4,
   "metadata": {},
   "outputs": [],
   "source": [
    "# 모델 정의\n",
    "class Vanila_Decoder(Model):\n",
    "    def __init__(self, latent_dim):\n",
    "        super().__init__()\n",
    "        \n",
    "        self.latent_dim = latent_dim\n",
    "        self.decoder = tf.keras.Sequential([\n",
    "            layers.Dense(256, activation='relu'), # (batch, 7*7*32) , input_shape=(latent_dim,)\n",
    "            layers.Dense(512, activation='relu'), # (batch, 7*7*32) , input_shape=(latent_dim,)\n",
    "            layers.Dense(784, activation='sigmoid'), # (batch, 7*7*32) , input_shape=(latent_dim,)\n",
    "            layers.Reshape((28,28, 1))\n",
    "        ])\n",
    "        \n",
    "    def call(self, z):\n",
    "        return self.decoder(z)"
   ]
  },
  {
   "cell_type": "code",
   "execution_count": 5,
   "metadata": {},
   "outputs": [],
   "source": [
    "# 모델의 하이퍼 파라미터 세팅\n",
    "n_epochs = 50\n",
    "latent_dim = 2\n",
    "learning_rate = 1e-3\n",
    "log_interval = 10"
   ]
  },
  {
   "cell_type": "code",
   "execution_count": 6,
   "metadata": {
    "id": "9ofy2-su5dQ6"
   },
   "outputs": [],
   "source": [
    "# 모델 객체 생성 위에서 만든 붕어빵 틀로 붕어빵 만드는 과정!\n",
    "encoder = Vanila_Encoder(latent_dim)\n",
    "decoder = Vanila_Decoder(latent_dim)\n",
    "optimizer = tf.keras.optimizers.Adam(learning_rate=learning_rate)"
   ]
  },
  {
   "cell_type": "code",
   "execution_count": 7,
   "metadata": {},
   "outputs": [],
   "source": [
    "# 샘플링 하는 과정\n",
    "def sample(mu, logvar):\n",
    "    epsilon = tf.random.normal(mu.shape)\n",
    "    sigma = tf.exp(0.5 * logvar) ## var==sigma^2 \n",
    "    return epsilon * sigma + mu"
   ]
  },
  {
   "cell_type": "code",
   "execution_count": 8,
   "metadata": {},
   "outputs": [],
   "source": [
    "# Input을 받아서 Gradient descent 한 번 하는 과정까지!\n",
    "@tf.function # decorator 즉시 실행으로 바꿔줌\n",
    "def train_step(inputs):\n",
    "    with tf.GradientTape() as tape: # 이 부분은 그래디언트를 추적하겠다!\n",
    "        mu, logvar = encoder(inputs) # (batch, latent_dim), (batch, latent_dim) q(z|x)\n",
    "        z = sample(mu, logvar) # 인코더에서 뽑은 평균과 분산으로 샘플링 \n",
    "        x_recon = decoder(z) # 샘플링된 것을 다시 Recon p(x|z)\n",
    "        reconstruction_error = tf.reduce_sum(tf.losses.binary_crossentropy(inputs, x_recon)) # log p(x|z)\n",
    "        kl = 0.5 * tf.reduce_sum(tf.exp(logvar) + tf.square(mu) - 1. - logvar) # KL(p(z)|q(z|x))\n",
    "        loss = (kl + reconstruction_error) / inputs.shape[0] # 각 샘플당 로스로!\n",
    "         \n",
    "    vars_ = encoder.trainable_variables + decoder.trainable_variables # get trainable parameter\n",
    "    grads_ = tape.gradient(loss, vars_) # get grads\n",
    "    optimizer.apply_gradients(zip(grads_, vars_)) # applyling gradient descent\n",
    "\n",
    "    return loss, reconstruction_error, kl"
   ]
  },
  {
   "cell_type": "code",
   "execution_count": 9,
   "metadata": {},
   "outputs": [
    {
     "name": "stdout",
     "output_type": "stream",
     "text": [
      " 10 iteration: ELBO 157.20, Recon 151.73, KL 5.46\n",
      " 20 iteration: ELBO 149.57, Recon 143.60, KL 5.98\n",
      " 30 iteration: ELBO 145.82, Recon 139.55, KL 6.26\n",
      " 40 iteration: ELBO 143.42, Recon 136.98, KL 6.44\n",
      " 50 iteration: ELBO 141.53, Recon 135.00, KL 6.53\n"
     ]
    }
   ],
   "source": [
    "for epoch in range(1, n_epochs + 1):    \n",
    "    total_loss, total_recon, total_kl = 0, 0, 0\n",
    "    for x in train_data:\n",
    "        loss, recon, kl = train_step(x)\n",
    "        # loss 저장\n",
    "        total_loss += loss * x.shape[0]\n",
    "        # error 저장\n",
    "        total_recon += recon\n",
    "        # total KL 저장\n",
    "        total_kl += kl\n",
    "    \n",
    "    if epoch % log_interval == 0:\n",
    "        # epoch 동안 평균 로스\n",
    "        print(\n",
    "            f'{epoch:3d} iteration: ELBO {total_loss / len(dataset):.2f}, ' \\\n",
    "            f'Recon {total_recon / len(dataset):.2f}, ' \\\n",
    "            f'KL {total_kl / len(dataset):.2f}'\n",
    "        )"
   ]
  },
  {
   "cell_type": "code",
   "execution_count": 12,
   "metadata": {},
   "outputs": [
    {
     "data": {
      "text/plain": "<matplotlib.image.AxesImage at 0x7fa6e072fe90>"
     },
     "execution_count": 12,
     "metadata": {},
     "output_type": "execute_result"
    },
    {
     "data": {
      "text/plain": "<Figure size 432x288 with 1 Axes>",
      "image/png": "[encoded data removed]"
     },
     "metadata": {
      "needs_background": "light"
     },
     "output_type": "display_data"
    }
   ],
   "source": [
    "mu = tf.zeros((1, latent_dim))\n",
    "logvar = tf.zeros((1, latent_dim))\n",
    "\n",
    "z = sample(mu, logvar)\n",
    "x = decoder(z)\n",
    "plt.imshow(x[0, :, :, 0], cmap='gray')"
   ]
  },
  {
   "cell_type": "code",
   "execution_count": 15,
   "outputs": [
    {
     "name": "stdout",
     "output_type": "stream",
     "text": [
      "Collecting tensorflow-probability==0.6.0\r\n",
      "  Downloading tensorflow_probability-0.6.0-py2.py3-none-any.whl (790 kB)\r\n",
      "\u001B[2K     \u001B[90m━━━━━━━━━━━━━━━━━━━━━━━━━━━━━━━━━━━━━━━\u001B[0m \u001B[32m790.8/790.8 kB\u001B[0m \u001B[31m7.3 MB/s\u001B[0m eta \u001B[36m0:00:00\u001B[0ma \u001B[36m0:00:01\u001B[0m\r\n",
      "\u001B[?25hRequirement already satisfied: numpy>=1.13.3 in ./anaconda3/envs/pytorch/lib/python3.7/site-packages (from tensorflow-probability==0.6.0) (1.21.6)\r\n",
      "Requirement already satisfied: six>=1.10.0 in ./anaconda3/envs/pytorch/lib/python3.7/site-packages (from tensorflow-probability==0.6.0) (1.16.0)\r\n",
      "Installing collected packages: tensorflow-probability\r\n",
      "Successfully installed tensorflow-probability-0.6.0\r\n"
     ]
    }
   ],
   "source": [
    "!pip install -U tensorflow-probability==0.6.0"
   ],
   "metadata": {
    "collapsed": false,
    "pycharm": {
     "name": "#%%\n"
    }
   }
  },
  {
   "cell_type": "code",
   "execution_count": 16,
   "metadata": {},
   "outputs": [
    {
     "ename": "AttributeError",
     "evalue": "module 'tensorflow' has no attribute 'contrib'",
     "output_type": "error",
     "traceback": [
      "\u001B[0;31m---------------------------------------------------------------------------\u001B[0m",
      "\u001B[0;31mAttributeError\u001B[0m                            Traceback (most recent call last)",
      "\u001B[0;32m/tmp/ipykernel_30090/3205720027.py\u001B[0m in \u001B[0;36m<module>\u001B[0;34m\u001B[0m\n\u001B[0;32m----> 1\u001B[0;31m \u001B[0;32mimport\u001B[0m \u001B[0mtensorflow_probability\u001B[0m \u001B[0;32mas\u001B[0m \u001B[0mtfp\u001B[0m\u001B[0;34m\u001B[0m\u001B[0;34m\u001B[0m\u001B[0m\n\u001B[0m\u001B[1;32m      2\u001B[0m \u001B[0;34m\u001B[0m\u001B[0m\n\u001B[1;32m      3\u001B[0m \u001B[0;34m\u001B[0m\u001B[0m\n\u001B[1;32m      4\u001B[0m \u001B[0;31m# -2~2까지 z값에 대하여 뽑기!\u001B[0m\u001B[0;34m\u001B[0m\u001B[0;34m\u001B[0m\u001B[0;34m\u001B[0m\u001B[0m\n\u001B[1;32m      5\u001B[0m \u001B[0;32mdef\u001B[0m \u001B[0mplot_latent_images\u001B[0m\u001B[0;34m(\u001B[0m\u001B[0mn\u001B[0m\u001B[0;34m,\u001B[0m \u001B[0mdigit_size\u001B[0m\u001B[0;34m=\u001B[0m\u001B[0;36m28\u001B[0m\u001B[0;34m)\u001B[0m\u001B[0;34m:\u001B[0m\u001B[0;34m\u001B[0m\u001B[0;34m\u001B[0m\u001B[0m\n",
      "\u001B[0;32m~/anaconda3/envs/pytorch/lib/python3.7/site-packages/tensorflow_probability/__init__.py\u001B[0m in \u001B[0;36m<module>\u001B[0;34m\u001B[0m\n\u001B[1;32m     76\u001B[0m \u001B[0;34m\u001B[0m\u001B[0m\n\u001B[1;32m     77\u001B[0m \u001B[0;31m# from tensorflow_probability.google import staging  # DisableOnExport\u001B[0m\u001B[0;34m\u001B[0m\u001B[0;34m\u001B[0m\u001B[0;34m\u001B[0m\u001B[0m\n\u001B[0;32m---> 78\u001B[0;31m \u001B[0;32mfrom\u001B[0m \u001B[0mtensorflow_probability\u001B[0m\u001B[0;34m.\u001B[0m\u001B[0mpython\u001B[0m \u001B[0;32mimport\u001B[0m \u001B[0;34m*\u001B[0m  \u001B[0;31m# pylint: disable=wildcard-import\u001B[0m\u001B[0;34m\u001B[0m\u001B[0;34m\u001B[0m\u001B[0m\n\u001B[0m\u001B[1;32m     79\u001B[0m \u001B[0;32mfrom\u001B[0m \u001B[0mtensorflow_probability\u001B[0m\u001B[0;34m.\u001B[0m\u001B[0mpython\u001B[0m\u001B[0;34m.\u001B[0m\u001B[0mversion\u001B[0m \u001B[0;32mimport\u001B[0m \u001B[0m__version__\u001B[0m\u001B[0;34m\u001B[0m\u001B[0;34m\u001B[0m\u001B[0m\n\u001B[1;32m     80\u001B[0m \u001B[0;31m# pylint: enable=g-import-not-at-top\u001B[0m\u001B[0;34m\u001B[0m\u001B[0;34m\u001B[0m\u001B[0;34m\u001B[0m\u001B[0m\n",
      "\u001B[0;32m~/anaconda3/envs/pytorch/lib/python3.7/site-packages/tensorflow_probability/python/__init__.py\u001B[0m in \u001B[0;36m<module>\u001B[0;34m\u001B[0m\n\u001B[1;32m     19\u001B[0m \u001B[0;32mfrom\u001B[0m \u001B[0m__future__\u001B[0m \u001B[0;32mimport\u001B[0m \u001B[0mprint_function\u001B[0m\u001B[0;34m\u001B[0m\u001B[0;34m\u001B[0m\u001B[0m\n\u001B[1;32m     20\u001B[0m \u001B[0;34m\u001B[0m\u001B[0m\n\u001B[0;32m---> 21\u001B[0;31m \u001B[0;32mfrom\u001B[0m \u001B[0mtensorflow_probability\u001B[0m\u001B[0;34m.\u001B[0m\u001B[0mpython\u001B[0m \u001B[0;32mimport\u001B[0m \u001B[0mbijectors\u001B[0m\u001B[0;34m\u001B[0m\u001B[0;34m\u001B[0m\u001B[0m\n\u001B[0m\u001B[1;32m     22\u001B[0m \u001B[0;32mfrom\u001B[0m \u001B[0mtensorflow_probability\u001B[0m\u001B[0;34m.\u001B[0m\u001B[0mpython\u001B[0m \u001B[0;32mimport\u001B[0m \u001B[0mdistributions\u001B[0m\u001B[0;34m\u001B[0m\u001B[0;34m\u001B[0m\u001B[0m\n\u001B[1;32m     23\u001B[0m \u001B[0;32mfrom\u001B[0m \u001B[0mtensorflow_probability\u001B[0m\u001B[0;34m.\u001B[0m\u001B[0mpython\u001B[0m \u001B[0;32mimport\u001B[0m \u001B[0medward2\u001B[0m\u001B[0;34m\u001B[0m\u001B[0;34m\u001B[0m\u001B[0m\n",
      "\u001B[0;32m~/anaconda3/envs/pytorch/lib/python3.7/site-packages/tensorflow_probability/python/bijectors/__init__.py\u001B[0m in \u001B[0;36m<module>\u001B[0;34m\u001B[0m\n\u001B[1;32m     44\u001B[0m \u001B[0;32mfrom\u001B[0m \u001B[0mtensorflow_probability\u001B[0m\u001B[0;34m.\u001B[0m\u001B[0mpython\u001B[0m\u001B[0;34m.\u001B[0m\u001B[0mbijectors\u001B[0m\u001B[0;34m.\u001B[0m\u001B[0mmasked_autoregressive\u001B[0m \u001B[0;32mimport\u001B[0m \u001B[0mMaskedAutoregressiveFlow\u001B[0m\u001B[0;34m\u001B[0m\u001B[0;34m\u001B[0m\u001B[0m\n\u001B[1;32m     45\u001B[0m \u001B[0;32mfrom\u001B[0m \u001B[0mtensorflow_probability\u001B[0m\u001B[0;34m.\u001B[0m\u001B[0mpython\u001B[0m\u001B[0;34m.\u001B[0m\u001B[0mbijectors\u001B[0m\u001B[0;34m.\u001B[0m\u001B[0mmatrix_inverse_tril\u001B[0m \u001B[0;32mimport\u001B[0m \u001B[0mMatrixInverseTriL\u001B[0m\u001B[0;34m\u001B[0m\u001B[0;34m\u001B[0m\u001B[0m\n\u001B[0;32m---> 46\u001B[0;31m \u001B[0;32mfrom\u001B[0m \u001B[0mtensorflow_probability\u001B[0m\u001B[0;34m.\u001B[0m\u001B[0mpython\u001B[0m\u001B[0;34m.\u001B[0m\u001B[0mbijectors\u001B[0m\u001B[0;34m.\u001B[0m\u001B[0mmatveclu\u001B[0m \u001B[0;32mimport\u001B[0m \u001B[0mMatvecLU\u001B[0m\u001B[0;34m\u001B[0m\u001B[0;34m\u001B[0m\u001B[0m\n\u001B[0m\u001B[1;32m     47\u001B[0m \u001B[0;32mfrom\u001B[0m \u001B[0mtensorflow_probability\u001B[0m\u001B[0;34m.\u001B[0m\u001B[0mpython\u001B[0m\u001B[0;34m.\u001B[0m\u001B[0mbijectors\u001B[0m\u001B[0;34m.\u001B[0m\u001B[0mnormal_cdf\u001B[0m \u001B[0;32mimport\u001B[0m \u001B[0mNormalCDF\u001B[0m\u001B[0;34m\u001B[0m\u001B[0;34m\u001B[0m\u001B[0m\n\u001B[1;32m     48\u001B[0m \u001B[0;32mfrom\u001B[0m \u001B[0mtensorflow_probability\u001B[0m\u001B[0;34m.\u001B[0m\u001B[0mpython\u001B[0m\u001B[0;34m.\u001B[0m\u001B[0mbijectors\u001B[0m\u001B[0;34m.\u001B[0m\u001B[0mordered\u001B[0m \u001B[0;32mimport\u001B[0m \u001B[0mOrdered\u001B[0m\u001B[0;34m\u001B[0m\u001B[0;34m\u001B[0m\u001B[0m\n",
      "\u001B[0;32m~/anaconda3/envs/pytorch/lib/python3.7/site-packages/tensorflow_probability/python/bijectors/matveclu.py\u001B[0m in \u001B[0;36m<module>\u001B[0;34m\u001B[0m\n\u001B[1;32m     22\u001B[0m \u001B[0;34m\u001B[0m\u001B[0m\n\u001B[1;32m     23\u001B[0m \u001B[0;32mfrom\u001B[0m \u001B[0mtensorflow_probability\u001B[0m\u001B[0;34m.\u001B[0m\u001B[0mpython\u001B[0m\u001B[0;34m.\u001B[0m\u001B[0mbijectors\u001B[0m \u001B[0;32mimport\u001B[0m \u001B[0mbijector\u001B[0m\u001B[0;34m\u001B[0m\u001B[0;34m\u001B[0m\u001B[0m\n\u001B[0;32m---> 24\u001B[0;31m \u001B[0;32mfrom\u001B[0m \u001B[0mtensorflow_probability\u001B[0m\u001B[0;34m.\u001B[0m\u001B[0mpython\u001B[0m\u001B[0;34m.\u001B[0m\u001B[0mmath\u001B[0m\u001B[0;34m.\u001B[0m\u001B[0mlinalg\u001B[0m \u001B[0;32mimport\u001B[0m \u001B[0mlu_reconstruct\u001B[0m\u001B[0;34m\u001B[0m\u001B[0;34m\u001B[0m\u001B[0m\n\u001B[0m\u001B[1;32m     25\u001B[0m \u001B[0;32mfrom\u001B[0m \u001B[0mtensorflow_probability\u001B[0m\u001B[0;34m.\u001B[0m\u001B[0mpython\u001B[0m\u001B[0;34m.\u001B[0m\u001B[0mmath\u001B[0m\u001B[0;34m.\u001B[0m\u001B[0mlinalg\u001B[0m \u001B[0;32mimport\u001B[0m \u001B[0mlu_solve\u001B[0m\u001B[0;34m\u001B[0m\u001B[0;34m\u001B[0m\u001B[0m\n\u001B[1;32m     26\u001B[0m \u001B[0;34m\u001B[0m\u001B[0m\n",
      "\u001B[0;32m~/anaconda3/envs/pytorch/lib/python3.7/site-packages/tensorflow_probability/python/math/__init__.py\u001B[0m in \u001B[0;36m<module>\u001B[0;34m\u001B[0m\n\u001B[1;32m     20\u001B[0m \u001B[0;34m\u001B[0m\u001B[0m\n\u001B[1;32m     21\u001B[0m \u001B[0;32mfrom\u001B[0m \u001B[0mtensorflow_probability\u001B[0m\u001B[0;34m.\u001B[0m\u001B[0mpython\u001B[0m\u001B[0;34m.\u001B[0m\u001B[0mmath\u001B[0m\u001B[0;34m.\u001B[0m\u001B[0mcustom_gradient\u001B[0m \u001B[0;32mimport\u001B[0m \u001B[0mcustom_gradient\u001B[0m\u001B[0;34m\u001B[0m\u001B[0;34m\u001B[0m\u001B[0m\n\u001B[0;32m---> 22\u001B[0;31m \u001B[0;32mfrom\u001B[0m \u001B[0mtensorflow_probability\u001B[0m\u001B[0;34m.\u001B[0m\u001B[0mpython\u001B[0m\u001B[0;34m.\u001B[0m\u001B[0mmath\u001B[0m\u001B[0;34m.\u001B[0m\u001B[0mdiag_jacobian\u001B[0m \u001B[0;32mimport\u001B[0m \u001B[0mdiag_jacobian\u001B[0m\u001B[0;34m\u001B[0m\u001B[0;34m\u001B[0m\u001B[0m\n\u001B[0m\u001B[1;32m     23\u001B[0m \u001B[0;32mfrom\u001B[0m \u001B[0mtensorflow_probability\u001B[0m\u001B[0;34m.\u001B[0m\u001B[0mpython\u001B[0m\u001B[0;34m.\u001B[0m\u001B[0mmath\u001B[0m\u001B[0;34m.\u001B[0m\u001B[0minterpolation\u001B[0m \u001B[0;32mimport\u001B[0m \u001B[0mbatch_interp_regular_1d_grid\u001B[0m\u001B[0;34m\u001B[0m\u001B[0;34m\u001B[0m\u001B[0m\n\u001B[1;32m     24\u001B[0m \u001B[0;32mfrom\u001B[0m \u001B[0mtensorflow_probability\u001B[0m\u001B[0;34m.\u001B[0m\u001B[0mpython\u001B[0m\u001B[0;34m.\u001B[0m\u001B[0mmath\u001B[0m\u001B[0;34m.\u001B[0m\u001B[0minterpolation\u001B[0m \u001B[0;32mimport\u001B[0m \u001B[0minterp_regular_1d_grid\u001B[0m\u001B[0;34m\u001B[0m\u001B[0;34m\u001B[0m\u001B[0m\n",
      "\u001B[0;32m~/anaconda3/envs/pytorch/lib/python3.7/site-packages/tensorflow_probability/python/math/diag_jacobian.py\u001B[0m in \u001B[0;36m<module>\u001B[0;34m\u001B[0m\n\u001B[1;32m     22\u001B[0m \u001B[0;32mimport\u001B[0m \u001B[0mtensorflow\u001B[0m \u001B[0;32mas\u001B[0m \u001B[0mtf\u001B[0m\u001B[0;34m\u001B[0m\u001B[0;34m\u001B[0m\u001B[0m\n\u001B[1;32m     23\u001B[0m \u001B[0;34m\u001B[0m\u001B[0m\n\u001B[0;32m---> 24\u001B[0;31m \u001B[0mtfe\u001B[0m \u001B[0;34m=\u001B[0m \u001B[0mtf\u001B[0m\u001B[0;34m.\u001B[0m\u001B[0mcontrib\u001B[0m\u001B[0;34m.\u001B[0m\u001B[0meager\u001B[0m\u001B[0;34m\u001B[0m\u001B[0;34m\u001B[0m\u001B[0m\n\u001B[0m\u001B[1;32m     25\u001B[0m \u001B[0;34m\u001B[0m\u001B[0m\n\u001B[1;32m     26\u001B[0m __all__ = [\n",
      "\u001B[0;31mAttributeError\u001B[0m: module 'tensorflow' has no attribute 'contrib'"
     ]
    }
   ],
   "source": [
    "import tensorflow_probability as tfp\n",
    "\n",
    "\n",
    "# -2~2까지 z값에 대하여 뽑기!\n",
    "def plot_latent_images(n, digit_size=28):\n",
    "    digit_size = 28\n",
    "    scale = 2.0\n",
    "    figure = np.zeros((digit_size * n, digit_size * n))\n",
    "    # linearly spaced coordinates corresponding to the 2D plot\n",
    "    # of digit classes in the latent space\n",
    "    grid_x = np.linspace(-scale, scale, n)\n",
    "    grid_y = np.linspace(-scale, scale, n)[::-1]\n",
    "\n",
    "    for i, yi in enumerate(grid_y):\n",
    "        for j, xi in enumerate(grid_x):\n",
    "            z_sample = np.array([[xi, yi]])\n",
    "            x_decoded = decoder(z_sample).numpy()\n",
    "            digit = x_decoded[0].reshape(digit_size, digit_size)\n",
    "            figure[\n",
    "                i * digit_size : (i + 1) * digit_size,\n",
    "                j * digit_size : (j + 1) * digit_size,\n",
    "            ] = digit\n",
    "\n",
    "    plt.figure(figsize=(10, 10))\n",
    "    start_range = digit_size // 2\n",
    "    end_range = n * digit_size + start_range\n",
    "    pixel_range = np.arange(start_range, end_range, digit_size)\n",
    "    sample_range_x = np.round(grid_x, 1)\n",
    "    sample_range_y = np.round(grid_y, 1)\n",
    "    plt.xticks(pixel_range, sample_range_x)\n",
    "    plt.yticks(pixel_range, sample_range_y)\n",
    "    plt.xlabel(\"z[0]\")\n",
    "    plt.ylabel(\"z[1]\")\n",
    "    plt.imshow(figure, cmap=\"Greys_r\")\n",
    "    plt.show()"
   ]
  },
  {
   "cell_type": "code",
   "execution_count": 14,
   "metadata": {},
   "outputs": [
    {
     "ename": "NameError",
     "evalue": "name 'plot_latent_images' is not defined",
     "output_type": "error",
     "traceback": [
      "\u001B[0;31m---------------------------------------------------------------------------\u001B[0m",
      "\u001B[0;31mNameError\u001B[0m                                 Traceback (most recent call last)",
      "\u001B[0;32m/tmp/ipykernel_30090/2229167978.py\u001B[0m in \u001B[0;36m<module>\u001B[0;34m\u001B[0m\n\u001B[0;32m----> 1\u001B[0;31m \u001B[0mplot_latent_images\u001B[0m\u001B[0;34m(\u001B[0m\u001B[0;36m20\u001B[0m\u001B[0;34m)\u001B[0m\u001B[0;34m\u001B[0m\u001B[0;34m\u001B[0m\u001B[0m\n\u001B[0m",
      "\u001B[0;31mNameError\u001B[0m: name 'plot_latent_images' is not defined"
     ]
    }
   ],
   "source": [
    "plot_latent_images(20)"
   ]
  },
  {
   "cell_type": "code",
   "execution_count": null,
   "metadata": {},
   "outputs": [],
   "source": [
    "test_dataset = tfds.load('mnist', split='test') # MNIST Data load \n",
    "test_data = test_dataset.map(lambda data: (tf.cast(data['image'], tf.float32) / 255., data['label'])).batch(1024) # data에서 이미지정보만 뽑아서 Normalizing"
   ]
  },
  {
   "cell_type": "code",
   "execution_count": null,
   "metadata": {},
   "outputs": [],
   "source": [
    "x_axis = []\n",
    "y_axis = []\n",
    "label_list = []\n",
    "for image, label in test_data:\n",
    "    mu, logvar = encoder(image)\n",
    "    x_axis.append(mu[:,0] + tf.exp(0.5*logvar)[:,0])\n",
    "    y_axis.append(mu[:,1] + tf.exp(0.5*logvar)[:,1])\n",
    "    label_list.append(label.numpy())"
   ]
  },
  {
   "cell_type": "code",
   "execution_count": null,
   "metadata": {},
   "outputs": [],
   "source": [
    "x_axis = np.concatenate(x_axis, axis=0)\n",
    "y_axis = np.concatenate(y_axis, axis=0)\n",
    "label_list = np.concatenate(label_list, axis=0)"
   ]
  },
  {
   "cell_type": "code",
   "execution_count": null,
   "metadata": {},
   "outputs": [],
   "source": [
    "scatter_plot = plt.scatter(x_axis, y_axis, c=label_list, label=label_list)\n",
    "plt.legend(handles = scatter_plot.legend_elements()[0], labels=[i for i in range(10)])"
   ]
  },
  {
   "cell_type": "code",
   "execution_count": null,
   "metadata": {},
   "outputs": [],
   "source": [
    "image_sample = next(iter(test_dataset))['image']\n",
    "image_sample = tf.expand_dims(image_sample, axis=0)"
   ]
  },
  {
   "cell_type": "code",
   "execution_count": null,
   "metadata": {},
   "outputs": [],
   "source": [
    "mu, logvar = encoder(image_sample/255)\n",
    "z = sample(mu, logvar)\n",
    "print(mu)\n",
    "x = decoder(z)"
   ]
  },
  {
   "cell_type": "code",
   "execution_count": null,
   "metadata": {},
   "outputs": [],
   "source": [
    "plt.imshow(image_sample[0,:, :, 0], cmap='gray')"
   ]
  },
  {
   "cell_type": "code",
   "execution_count": null,
   "metadata": {},
   "outputs": [],
   "source": [
    "plt.imshow(x[0, :, :, 0], cmap='gray')"
   ]
  },
  {
   "cell_type": "markdown",
   "metadata": {},
   "source": [
    "## Conditional VAE"
   ]
  },
  {
   "cell_type": "code",
   "execution_count": null,
   "metadata": {},
   "outputs": [],
   "source": [
    "class Condition_Encoder(Model):\n",
    "    def __init__(self, latent_dim):\n",
    "        super().__init__()\n",
    "        self.latent_dim = latent_dim\n",
    "        self.flatten = layers.Flatten()\n",
    "        self.depth = 10\n",
    "        self.encoder = tf.keras.Sequential([\n",
    "            layers.Dense(512, activation='relu'),\n",
    "            layers.Dense(256, activation='relu'),\n",
    "            layers.Dense(latent_dim * 2)\n",
    "        ])\n",
    "        \n",
    "    def call(self, x, label):\n",
    "        x = self.flatten(x)\n",
    "        label = tf.one_hot(label, self.depth)\n",
    "        x = tf.keras.layers.concatenate([x, label])\n",
    "        mu, logvar = tf.split(self.encoder(x), 2, axis=1) ## self.encoder(x)의 값을 1축 방향으로 반으로 나누어 쪼갠뒤 각각의 값을 mu, logvar로 만듭니다.\n",
    "        \n",
    "        return mu, logvar"
   ]
  },
  {
   "cell_type": "code",
   "execution_count": null,
   "metadata": {},
   "outputs": [],
   "source": [
    "class Condition_Decoder(Model):\n",
    "    def __init__(self, latent_dim):\n",
    "        super().__init__()\n",
    "        \n",
    "        self.latent_dim = latent_dim\n",
    "        self.depth = 10\n",
    "        self.decoder = tf.keras.Sequential([\n",
    "            layers.Dense(256, activation='relu'), # (batch, 7*7*32) , input_shape=(latent_dim,)\n",
    "            layers.Dense(512, activation='relu'), # (batch, 7*7*32) , input_shape=(latent_dim,)\n",
    "            layers.Dense(784, activation='sigmoid'), # (batch, 7*7*32) , input_shape=(latent_dim,)\n",
    "            layers.Reshape((28,28, 1))\n",
    "        ])\n",
    "        \n",
    "    def call(self, z, label):\n",
    "        label = tf.one_hot(label, self.depth)\n",
    "        z = tf.keras.layers.concatenate([z, label])\n",
    "        return self.decoder(z)"
   ]
  },
  {
   "cell_type": "code",
   "execution_count": null,
   "metadata": {},
   "outputs": [],
   "source": [
    "condition_encoder = Condition_Encoder(2)\n",
    "condition_decoder = Condition_Decoder(2)"
   ]
  },
  {
   "cell_type": "code",
   "execution_count": null,
   "metadata": {},
   "outputs": [],
   "source": [
    "dataset = tfds.load('mnist', split='train') # MNIST Data load \n",
    "train_data = dataset.map(lambda data: (tf.cast(data['image'], tf.float32) / 255., data['label'])).batch(1024)"
   ]
  },
  {
   "cell_type": "code",
   "execution_count": null,
   "metadata": {},
   "outputs": [],
   "source": [
    "@tf.function # decorator 즉시 실행으로 바꿔줌\n",
    "def train_step_condition(inputs, label):\n",
    "    with tf.GradientTape() as tape: # 이 부분은 그래디언트를 추적하겠다!\n",
    "        mu, logvar = condition_encoder(inputs, label) # (batch, latent_dim), (batch, latent_dim) q(z|x)\n",
    "        z = sample(mu, logvar) # 인코더에서 뽑은 평균과 분산으로 샘플링 \n",
    "        x_recon = condition_decoder(z, label) # 샘플링된 것을 다시 Recon p(x|z)\n",
    "        reconstruction_error = tf.reduce_sum(tf.losses.binary_crossentropy(inputs, x_recon)) # log p(x|z)\n",
    "        kl = 0.5 * tf.reduce_sum(tf.exp(logvar) + tf.square(mu) - 1. - logvar) # KL(p(z)|q(z|x))\n",
    "        loss = (kl + reconstruction_error) / inputs.shape[0] # 각 샘플당 로스로!\n",
    "         \n",
    "    vars_ = condition_encoder.trainable_variables + condition_decoder.trainable_variables # get trainable parameter\n",
    "    grads_ = tape.gradient(loss, vars_) # get grads\n",
    "    optimizer.apply_gradients(zip(grads_, vars_)) # applyling gradient descent\n",
    "\n",
    "    return loss, reconstruction_error, kl"
   ]
  },
  {
   "cell_type": "code",
   "execution_count": null,
   "metadata": {},
   "outputs": [],
   "source": [
    "for epoch in range(1, n_epochs + 1):    \n",
    "    total_loss, total_recon, total_kl = 0, 0, 0\n",
    "    for x, y in train_data:\n",
    "        loss, recon, kl = train_step_condition(x, y)\n",
    "        # loss 저장\n",
    "        total_loss += loss * x.shape[0]\n",
    "        # error 저장\n",
    "        total_recon += recon\n",
    "        # total KL 저장\n",
    "        total_kl += kl\n",
    "    \n",
    "    if epoch % log_interval == 0:\n",
    "        # epoch 동안 평균 로스\n",
    "        print(\n",
    "            f'{epoch:3d} iteration: ELBO {total_loss / len(dataset):.2f}, ' \\\n",
    "            f'Recon {total_recon / len(dataset):.2f}, ' \\\n",
    "            f'KL {total_kl / len(dataset):.2f}'\n",
    "        )"
   ]
  },
  {
   "cell_type": "code",
   "execution_count": null,
   "metadata": {},
   "outputs": [],
   "source": [
    "mu = tf.zeros((1, latent_dim))\n",
    "logvar = tf.zeros((1, latent_dim))\n",
    "z = sample(mu, logvar)\n",
    "label = tf.convert_to_tensor([3])\n",
    "x = condition_decoder(z, label)\n",
    "plt.imshow(x[0, :, :, 0], cmap='gray')"
   ]
  },
  {
   "cell_type": "code",
   "execution_count": null,
   "metadata": {},
   "outputs": [],
   "source": []
  }
 ],
 "metadata": {
  "accelerator": "GPU",
  "colab": {
   "collapsed_sections": [],
   "name": "VAE.ipynb",
   "provenance": []
  },
  "kernelspec": {
   "display_name": "Python 3 (ipykernel)",
   "language": "python",
   "name": "python3"
  },
  "language_info": {
   "codemirror_mode": {
    "name": "ipython",
    "version": 3
   },
   "file_extension": ".py",
   "mimetype": "text/x-python",
   "name": "python",
   "nbconvert_exporter": "python",
   "pygments_lexer": "ipython3",
   "version": "3.8.0"
  }
 },
 "nbformat": 4,
 "nbformat_minor": 4
}